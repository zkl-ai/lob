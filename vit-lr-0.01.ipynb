{
 "cells": [
  {
   "cell_type": "code",
   "execution_count": 1,
   "id": "7db5345e",
   "metadata": {
    "ExecuteTime": {
     "end_time": "2023-01-24T13:59:44.146721Z",
     "start_time": "2023-01-24T13:59:43.224793Z"
    }
   },
   "outputs": [],
   "source": [
    "import pandas as pd\n",
    "import pickle\n",
    "import numpy as np\n",
    "import matplotlib.pyplot as plt\n",
    "from datetime import datetime\n",
    "from tqdm import tqdm \n",
    "from sklearn.metrics import accuracy_score, classification_report\n",
    "import math\n",
    "import torch\n",
    "import torch.nn.functional as F\n",
    "from torch.utils import data\n",
    "from torchinfo import summary\n",
    "from torch import Tensor\n",
    "import torch.nn as nn\n",
    "import torch.optim as optim"
   ]
  },
  {
   "cell_type": "code",
   "execution_count": 2,
   "id": "964212f9",
   "metadata": {
    "ExecuteTime": {
     "end_time": "2023-01-24T13:59:44.507422Z",
     "start_time": "2023-01-24T13:59:44.148453Z"
    }
   },
   "outputs": [
    {
     "name": "stdout",
     "output_type": "stream",
     "text": [
      "unzip:  cannot find or open tf/data/test_data.zip, tf/data/test_data.zip.zip or tf/data/test_data.zip.ZIP.\r\n"
     ]
    }
   ],
   "source": [
    "!unzip tf/data/test_data.zip"
   ]
  },
  {
   "cell_type": "code",
   "execution_count": 3,
   "id": "8f922687",
   "metadata": {
    "ExecuteTime": {
     "end_time": "2023-01-24T13:59:44.526745Z",
     "start_time": "2023-01-24T13:59:44.511739Z"
    }
   },
   "outputs": [
    {
     "name": "stdout",
     "output_type": "stream",
     "text": [
      "cuda:1\n"
     ]
    }
   ],
   "source": [
    "device = torch.device(\"cuda:1\" if torch.cuda.is_available() else \"cpu\")\n",
    "print(device)"
   ]
  },
  {
   "cell_type": "code",
   "execution_count": 4,
   "id": "3ee26c8c",
   "metadata": {
    "ExecuteTime": {
     "end_time": "2023-01-24T13:59:44.547064Z",
     "start_time": "2023-01-24T13:59:44.528497Z"
    }
   },
   "outputs": [],
   "source": [
    "def prepare_x(data):\n",
    "    df1 = data[:40, :].T\n",
    "    return np.array(df1)\n",
    "\n",
    "def get_label(data):\n",
    "    lob = data[-5:, :].T\n",
    "    return lob\n",
    "\n",
    "def data_classification(X, Y, T):\n",
    "    [N, D] = X.shape\n",
    "    df = np.array(X)\n",
    "\n",
    "    dY = np.array(Y)\n",
    "\n",
    "    dataY = dY[T - 1:N] - 1\n",
    "\n",
    "    dataX = np.zeros((N - T + 1, T, D))\n",
    "    for i in range(T, N + 1):\n",
    "        dataX[i - T] = df[i - T:i, :]\n",
    "\n",
    "    return dataX, dataY\n",
    "\n",
    "def torch_data(x, y):\n",
    "    x = torch.from_numpy(x)\n",
    "    x = torch.unsqueeze(x, 1)\n",
    "    y = torch.from_numpy(y)\n",
    "    y = F.one_hot(y, num_classes=3)\n",
    "    return x, y"
   ]
  },
  {
   "cell_type": "code",
   "execution_count": 5,
   "id": "54ad03da",
   "metadata": {
    "ExecuteTime": {
     "end_time": "2023-01-24T13:59:44.570944Z",
     "start_time": "2023-01-24T13:59:44.549049Z"
    },
    "run_control": {
     "marked": true
    }
   },
   "outputs": [],
   "source": [
    "class Dataset(data.Dataset):\n",
    "    \"\"\"Characterizes a dataset for PyTorch\"\"\"\n",
    "    def __init__(self, data, k, num_classes, T):\n",
    "        \"\"\"Initialization\"\"\" \n",
    "        self.k = k\n",
    "        self.num_classes = num_classes\n",
    "        self.T = T\n",
    "            \n",
    "        x = prepare_x(data)\n",
    "        y = get_label(data)\n",
    "        x, y = data_classification(x, y, self.T)\n",
    "        y = y[:,self.k]\n",
    "        self.length = len(x)\n",
    "\n",
    "        self.x = torch.from_numpy(x)\n",
    "        self.y = torch.from_numpy(y)\n",
    "\n",
    "    def __len__(self):\n",
    "        \"\"\"Denotes the total number of samples\"\"\"\n",
    "        return self.length\n",
    "\n",
    "    def __getitem__(self, index):\n",
    "        \"\"\"Generates samples of data\"\"\"\n",
    "        return self.x[index], self.y[index]"
   ]
  },
  {
   "cell_type": "code",
   "execution_count": 6,
   "id": "0ed0159e",
   "metadata": {
    "ExecuteTime": {
     "end_time": "2023-01-24T13:59:44.607975Z",
     "start_time": "2023-01-24T13:59:44.572668Z"
    }
   },
   "outputs": [],
   "source": [
    "root_train = '../data/BenchmarkDatasets/NoAuction/1.NoAuction_Zscore/NoAuction_Zscore_Training'\n",
    "root_test = '../data/BenchmarkDatasets/NoAuction/1.NoAuction_Zscore/NoAuction_Zscore_Testing'\n",
    "train_data_path = root_train + '/Train_Dst_NoAuction_ZScore_CF_7.txt'\n",
    "test_data_path1 = root_test + '/Test_Dst_NoAuction_ZScore_CF_7.txt'\n",
    "test_data_path2 = root_test + '/Test_Dst_NoAuction_ZScore_CF_8.txt'\n",
    "test_data_path3 = root_test + '/Test_Dst_NoAuction_ZScore_CF_9.txt'\n"
   ]
  },
  {
   "cell_type": "code",
   "execution_count": 7,
   "id": "70b016a2",
   "metadata": {
    "ExecuteTime": {
     "end_time": "2023-01-24T14:00:06.593970Z",
     "start_time": "2023-01-24T13:59:44.609642Z"
    }
   },
   "outputs": [
    {
     "name": "stdout",
     "output_type": "stream",
     "text": [
      "(149, 203800) (149, 50950) (149, 139587)\n"
     ]
    }
   ],
   "source": [
    "dec_data = np.loadtxt(train_data_path)\n",
    "dec_test1 = np.loadtxt(test_data_path1)\n",
    "dec_test2 = np.loadtxt(test_data_path2)\n",
    "dec_test3 = np.loadtxt(test_data_path3)\n",
    "\n",
    "dec_train = dec_data[:, :int(np.floor(dec_data.shape[1] * 0.8))]\n",
    "dec_val = dec_data[:, int(np.floor(dec_data.shape[1] * 0.8)):]\n",
    "dec_test = np.hstack((dec_test1, dec_test2, dec_test3))\n",
    "\n",
    "print(dec_train.shape, dec_val.shape, dec_test.shape)"
   ]
  },
  {
   "cell_type": "code",
   "execution_count": 8,
   "id": "d7aed772",
   "metadata": {
    "ExecuteTime": {
     "end_time": "2023-01-24T14:00:10.415152Z",
     "start_time": "2023-01-24T14:00:06.596340Z"
    }
   },
   "outputs": [
    {
     "name": "stdout",
     "output_type": "stream",
     "text": [
      "torch.Size([203701, 100, 40]) torch.Size([203701])\n"
     ]
    }
   ],
   "source": [
    "batch_size = 32\n",
    "\n",
    "dataset_train = Dataset(data=dec_train, k=4, num_classes=3, T=100)\n",
    "dataset_val = Dataset(data=dec_val, k=4, num_classes=3, T=100)\n",
    "dataset_test = Dataset(data=dec_test, k=4, num_classes=3, T=100)\n",
    "\n",
    "train_loader = torch.utils.data.DataLoader(dataset=dataset_train, batch_size=batch_size, shuffle=True, drop_last=True)\n",
    "val_loader = torch.utils.data.DataLoader(dataset=dataset_val, batch_size=batch_size, shuffle=False)\n",
    "test_loader = torch.utils.data.DataLoader(dataset=dataset_test, batch_size=batch_size, shuffle=False)\n",
    "\n",
    "print(dataset_train.x.shape, dataset_train.y.shape)"
   ]
  },
  {
   "cell_type": "code",
   "execution_count": 9,
   "id": "08c20dd5",
   "metadata": {
    "ExecuteTime": {
     "end_time": "2023-01-24T14:00:10.715570Z",
     "start_time": "2023-01-24T14:00:10.416921Z"
    }
   },
   "outputs": [],
   "source": [
    "for x in dataset_train.x:\n",
    "    if x.shape == [100, 40]:\n",
    "        print(x.shape)"
   ]
  },
  {
   "cell_type": "code",
   "execution_count": 10,
   "id": "c16f7747",
   "metadata": {
    "ExecuteTime": {
     "end_time": "2023-01-24T14:00:10.762082Z",
     "start_time": "2023-01-24T14:00:10.717274Z"
    }
   },
   "outputs": [
    {
     "name": "stdout",
     "output_type": "stream",
     "text": [
      "torch.Size([32, 100, 40]) torch.Size([32])\n"
     ]
    }
   ],
   "source": [
    "tmp_loader = torch.utils.data.DataLoader(dataset=dataset_train, batch_size=1, shuffle=True)\n",
    "\n",
    "for x, y in train_loader:\n",
    "    print(x.shape, y.shape)\n",
    "    break"
   ]
  },
  {
   "cell_type": "code",
   "execution_count": 11,
   "id": "47f26bb3",
   "metadata": {
    "ExecuteTime": {
     "end_time": "2023-01-24T14:00:10.783713Z",
     "start_time": "2023-01-24T14:00:10.763374Z"
    },
    "run_control": {
     "marked": true
    }
   },
   "outputs": [],
   "source": [
    "import torch\n",
    "from torch import nn, einsum\n",
    "import torch.nn.functional as F\n",
    "from einops import rearrange, repeat\n",
    "from einops.layers.torch import Rearrange\n",
    "\n",
    "class PreNorm(nn.Module):\n",
    "    def __init__(self, dim, fn):\n",
    "        super().__init__()\n",
    "        self.norm = nn.LayerNorm(dim)  # 正则化\n",
    "        self.fn = fn  # 具体的操作\n",
    "    def forward(self, x, **kwargs):\n",
    "        return self.fn(self.norm(x), **kwargs)\n",
    "\n",
    "class FeedForward(nn.Module):\n",
    "    def __init__(self, dim, hidden_dim, dropout = 0.):\n",
    "        super().__init__()\n",
    "        # 前向传播\n",
    "        self.net = nn.Sequential(\n",
    "            nn.Linear(dim, hidden_dim),\n",
    "            nn.GELU(),\n",
    "            nn.Dropout(dropout),\n",
    "            nn.Linear(hidden_dim, dim),\n",
    "            nn.Dropout(dropout)\n",
    "        )\n",
    "    def forward(self, x):\n",
    "        return self.net(x)\n",
    "\n",
    "class Attention(nn.Module):\n",
    "    # attention\n",
    "    def __init__(self, dim, heads = 8, dim_head = 64, dropout = 0.):\n",
    "        super().__init__()\n",
    "        inner_dim = dim_head *  heads  # 计算最终进行全连接操作时输入神经元的个数\n",
    "        project_out = not (heads == 1 and dim_head == dim)  # 多头注意力并且输入和输出维度相同时为True\n",
    "\n",
    "        self.heads = heads  # 多头注意力中“头”的个数\n",
    "        self.scale = dim_head ** -0.5  # 缩放操作，论文 Attention is all you need 中有介绍\n",
    "\n",
    "        self.attend = nn.Softmax(dim = -1)  # 初始化一个Softmax操作\n",
    "        self.to_qkv = nn.Linear(dim, inner_dim * 3, bias = False)  # 对Q、K、V三组向量先进性线性操作\n",
    "\n",
    "        # 线性全连接，如果不是多头或者输入输出维度不相等，进行空操作\n",
    "        self.to_out = nn.Sequential(\n",
    "            nn.Linear(inner_dim, dim),\n",
    "            nn.Dropout(dropout)\n",
    "        ) if project_out else nn.Identity()\n",
    "\n",
    "    def forward(self, x):\n",
    "        b, n, _, h = *x.shape, self.heads  # 获得输入x的维度和多头注意力的“头”数\n",
    "        qkv = self.to_qkv(x).chunk(3, dim = -1)  # 先对Q、K、V进行线性操作，然后chunk乘三三份\n",
    "        q, k, v = map(lambda t: rearrange(t, 'b n (h d) -> b h n d', h = h), qkv)  # 整理维度，获得Q、K、V\n",
    "\n",
    "        dots = einsum('b h i d, b h j d -> b h i j', q, k) * self.scale  # Q, K 向量先做点乘，来计算相关性，然后除以缩放因子\n",
    "\n",
    "        attn = self.attend(dots)  # 做Softmax运算\n",
    "\n",
    "        out = einsum('b h i j, b h j d -> b h i d', attn, v)  # Softmax运算结果与Value向量相乘，得到最终结果\n",
    "        out = rearrange(out, 'b h n d -> b n (h d)')  # 重新整理维度\n",
    "        return self.to_out(out)  # 做线性的全连接操作或者空操作（空操作直接输出out）\n",
    "\n",
    "class Transformer(nn.Module):\n",
    "    def __init__(self, dim, depth, heads, dim_head, mlp_dim, dropout = 0.):\n",
    "        super().__init__()\n",
    "        self.layers = nn.ModuleList([])  # Transformer包含多个编码器的叠加\n",
    "        for _ in range(depth):\n",
    "            # 编码器包含两大块：自注意力模块和前向传播模块\n",
    "            self.layers.append(nn.ModuleList([\n",
    "                PreNorm(dim, Attention(dim, heads = heads, dim_head = dim_head, dropout = dropout)),  # 多头自注意力模块\n",
    "                PreNorm(dim, FeedForward(dim, mlp_dim, dropout = dropout))  # 前向传播模块\n",
    "            ]))\n",
    "    def forward(self, x):\n",
    "        for attn, ff in self.layers:\n",
    "            # 自注意力模块和前向传播模块都使用了残差的模式\n",
    "            x = attn(x) + x\n",
    "            x = ff(x) + x\n",
    "        return x\n",
    "\n",
    "class ViT(nn.Module):\n",
    "    def __init__(self, *, num_classes=3, dim=256, depth=6, heads=16, mlp_dim=512, pool = 'cls', channels = 3, dim_head = 64, dropout = 0.1, emb_dropout = 0.1):\n",
    "        super().__init__()\n",
    "        num_patches = 100  # 获取图像切块的个数\n",
    "        patch_dim = 40  # 线性变换时的输入大小，即每一个图像宽、高、通道的乘积\n",
    "        assert pool in {'cls', 'mean'}, 'pool type must be either cls (cls token) or mean (mean pooling)'  # 池化方法必须为cls或者mean\n",
    "\n",
    "        self.to_patch_embedding = nn.Sequential(\n",
    "            nn.Linear(patch_dim, dim),  # 对分割好的图像块进行线性处理（全连接），输入维度为每一个小块的所有像素个数，输出为dim（函数传入的参数）\n",
    "        )\n",
    "\n",
    "        self.pos_embedding = nn.Parameter(torch.randn(1, num_patches + 1, dim))  # 位置编码，获取一组正态分布的数据用于训练\n",
    "        self.cls_token = nn.Parameter(torch.randn(1, 1, dim))  # 分类令牌，可训练\n",
    "        self.dropout = nn.Dropout(emb_dropout)\n",
    "\n",
    "        self.transformer = Transformer(dim, depth, heads, dim_head, mlp_dim, dropout)  # Transformer模块\n",
    "\n",
    "        self.pool = pool\n",
    "        self.to_latent = nn.Identity()  # 占位操作\n",
    "\n",
    "        self.mlp_head = nn.Sequential(\n",
    "            nn.LayerNorm(dim),  # 正则化\n",
    "            nn.Linear(dim, num_classes)  # 线性输出\n",
    "        )\n",
    "\n",
    "    def forward(self, x):\n",
    "        x = self.to_patch_embedding(x)  # 切块操作，shape (b, n, dim)，b为批量，n为切块数目，dim为最终线性操作时输入的神经元个数\n",
    "        b, n, _ = x.shape  # shape (b, n, 1024)\n",
    "\n",
    "        cls_tokens = repeat(self.cls_token, '() n d -> b n d', b = b)  # 分类令牌，将self.cls_token（形状为1, 1, dim）赋值为shape (b, 1, dim)\n",
    "        x = torch.cat((cls_tokens, x), dim=1)  # 将分类令牌拼接到输入中，x的shape (b, n+1, 1024)\n",
    "        x += self.pos_embedding[:, :(n + 1)]  # 进行位置编码，shape (b, n+1, 1024)\n",
    "        x = self.dropout(x)\n",
    "\n",
    "        x = self.transformer(x)  # transformer操作\n",
    "\n",
    "        x = x.mean(dim = 1) if self.pool == 'mean' else x[:, 0]\n",
    "\n",
    "        x = self.to_latent(x)\n",
    "        return self.mlp_head(x)  # 线性输出\n"
   ]
  },
  {
   "cell_type": "code",
   "execution_count": 12,
   "id": "31a42627",
   "metadata": {
    "ExecuteTime": {
     "end_time": "2023-01-24T14:00:13.090122Z",
     "start_time": "2023-01-24T14:00:10.785146Z"
    },
    "run_control": {
     "marked": true
    }
   },
   "outputs": [],
   "source": [
    "model = ViT().to(device)"
   ]
  },
  {
   "cell_type": "code",
   "execution_count": 13,
   "id": "0848f6bf",
   "metadata": {
    "ExecuteTime": {
     "end_time": "2023-01-24T14:00:13.095148Z",
     "start_time": "2023-01-24T14:00:13.091774Z"
    }
   },
   "outputs": [],
   "source": [
    "criterion = nn.CrossEntropyLoss()\n",
    "optimizer = torch.optim.Adam(model.parameters(), lr=0.001)\n"
   ]
  },
  {
   "cell_type": "code",
   "execution_count": 14,
   "id": "4edc9105",
   "metadata": {
    "ExecuteTime": {
     "end_time": "2023-01-24T14:00:13.116066Z",
     "start_time": "2023-01-24T14:00:13.096617Z"
    }
   },
   "outputs": [],
   "source": [
    "# A function to encapsulate the training loop\n",
    "def batch_gd(model, criterion, optimizer, train_loader, test_loader, epochs):\n",
    "    train_losses = np.zeros(epochs)\n",
    "    test_losses = np.zeros(epochs)\n",
    "    best_test_loss = np.inf\n",
    "    best_test_epoch = 0\n",
    "\n",
    "    for it in tqdm(range(epochs)):\n",
    "        model.train()\n",
    "        t0 = datetime.now()\n",
    "        train_loss = []\n",
    "        for inputs, targets in train_loader:\n",
    "            # move data to GPU\n",
    "            inputs, targets = inputs.to(device, dtype=torch.float), targets.to(device, dtype=torch.int64)\n",
    "            # print(inputs.shape)\n",
    "            # zero the parameter gradients\n",
    "            optimizer.zero_grad()\n",
    "            # Forward pass\n",
    "            # print(\"about to get model output\")\n",
    "            outputs = model(inputs)\n",
    "            # print(\"done getting model output\")\n",
    "            # print(\"outputs.shape:\", outputs.shape, \"targets.shape:\", targets.shape)\n",
    "            loss = criterion(outputs, targets)\n",
    "            # Backward and optimize\n",
    "            # print(\"about to optimize\")\n",
    "            loss.backward()\n",
    "            optimizer.step()\n",
    "            train_loss.append(loss.item())\n",
    "        # Get train loss and test loss\n",
    "        train_loss = np.mean(train_loss) # a little misleading\n",
    "    \n",
    "        model.eval()\n",
    "        test_loss = []\n",
    "        for inputs, targets in test_loader:\n",
    "            inputs, targets = inputs.to(device, dtype=torch.float), targets.to(device, dtype=torch.int64) \n",
    "            outputs = model(inputs)\n",
    "            loss = criterion(outputs, targets)\n",
    "            test_loss.append(loss.item())\n",
    "        test_loss = np.mean(test_loss)\n",
    "\n",
    "        # Save losses\n",
    "        train_losses[it] = train_loss\n",
    "        test_losses[it] = test_loss\n",
    "        \n",
    "        if test_loss < best_test_loss:\n",
    "            torch.save(model, './best_val_model_pytorch')\n",
    "            best_test_loss = test_loss\n",
    "            best_test_epoch = it\n",
    "            print('model saved')\n",
    "\n",
    "        dt = datetime.now() - t0\n",
    "        print(f'Epoch {it+1}/{epochs}, Train Loss: {train_loss:.4f}, \\\n",
    "          Validation Loss: {test_loss:.4f}, Duration: {dt}, Best Val Epoch: {best_test_epoch}')\n",
    "\n",
    "    return train_losses, test_losses\n"
   ]
  },
  {
   "cell_type": "code",
   "execution_count": 15,
   "id": "1104f893",
   "metadata": {
    "ExecuteTime": {
     "end_time": "2023-01-24T15:18:43.424910Z",
     "start_time": "2023-01-24T14:00:13.117572Z"
    }
   },
   "outputs": [
    {
     "name": "stderr",
     "output_type": "stream",
     "text": [
      "  5%|▌         | 1/20 [03:54<1:14:11, 234.30s/it]"
     ]
    },
    {
     "name": "stdout",
     "output_type": "stream",
     "text": [
      "model saved\n",
      "Epoch 1/20, Train Loss: 0.9838,           Validation Loss: 1.0722, Duration: 0:03:54.302046, Best Val Epoch: 0\n"
     ]
    },
    {
     "name": "stderr",
     "output_type": "stream",
     "text": [
      "\r",
      " 10%|█         | 2/20 [07:50<1:10:38, 235.49s/it]"
     ]
    },
    {
     "name": "stdout",
     "output_type": "stream",
     "text": [
      "model saved\n",
      "Epoch 2/20, Train Loss: 0.9458,           Validation Loss: 1.0647, Duration: 0:03:56.324502, Best Val Epoch: 1\n"
     ]
    },
    {
     "name": "stderr",
     "output_type": "stream",
     "text": [
      "\r",
      " 15%|█▌        | 3/20 [11:47<1:06:50, 235.93s/it]"
     ]
    },
    {
     "name": "stdout",
     "output_type": "stream",
     "text": [
      "model saved\n",
      "Epoch 3/20, Train Loss: 0.9391,           Validation Loss: 1.0249, Duration: 0:03:56.457725, Best Val Epoch: 2\n"
     ]
    },
    {
     "name": "stderr",
     "output_type": "stream",
     "text": [
      "\r",
      " 20%|██        | 4/20 [15:43<1:02:56, 236.02s/it]"
     ]
    },
    {
     "name": "stdout",
     "output_type": "stream",
     "text": [
      "model saved\n",
      "Epoch 4/20, Train Loss: 0.9229,           Validation Loss: 1.0203, Duration: 0:03:56.150343, Best Val Epoch: 3\n"
     ]
    },
    {
     "name": "stderr",
     "output_type": "stream",
     "text": [
      "\r",
      " 25%|██▌       | 5/20 [19:38<58:58, 235.91s/it]  "
     ]
    },
    {
     "name": "stdout",
     "output_type": "stream",
     "text": [
      "model saved\n",
      "Epoch 5/20, Train Loss: 0.9077,           Validation Loss: 1.0118, Duration: 0:03:55.705810, Best Val Epoch: 4\n"
     ]
    },
    {
     "name": "stderr",
     "output_type": "stream",
     "text": [
      "\r",
      " 30%|███       | 6/20 [23:34<55:00, 235.78s/it]"
     ]
    },
    {
     "name": "stdout",
     "output_type": "stream",
     "text": [
      "Epoch 6/20, Train Loss: 0.8990,           Validation Loss: 1.0121, Duration: 0:03:55.521851, Best Val Epoch: 4\n"
     ]
    },
    {
     "name": "stderr",
     "output_type": "stream",
     "text": [
      "\r",
      " 35%|███▌      | 7/20 [27:30<51:04, 235.71s/it]"
     ]
    },
    {
     "name": "stdout",
     "output_type": "stream",
     "text": [
      "model saved\n",
      "Epoch 7/20, Train Loss: 0.9063,           Validation Loss: 1.0061, Duration: 0:03:55.564634, Best Val Epoch: 6\n"
     ]
    },
    {
     "name": "stderr",
     "output_type": "stream",
     "text": [
      "\r",
      " 40%|████      | 8/20 [31:25<47:08, 235.74s/it]"
     ]
    },
    {
     "name": "stdout",
     "output_type": "stream",
     "text": [
      "model saved\n",
      "Epoch 8/20, Train Loss: 0.8675,           Validation Loss: 1.0027, Duration: 0:03:55.809695, Best Val Epoch: 7\n"
     ]
    },
    {
     "name": "stderr",
     "output_type": "stream",
     "text": [
      "\r",
      " 45%|████▌     | 9/20 [35:21<43:13, 235.74s/it]"
     ]
    },
    {
     "name": "stdout",
     "output_type": "stream",
     "text": [
      "model saved\n",
      "Epoch 9/20, Train Loss: 0.8356,           Validation Loss: 0.9829, Duration: 0:03:55.744636, Best Val Epoch: 8\n"
     ]
    },
    {
     "name": "stderr",
     "output_type": "stream",
     "text": [
      "\r",
      " 50%|█████     | 10/20 [39:17<39:17, 235.77s/it]"
     ]
    },
    {
     "name": "stdout",
     "output_type": "stream",
     "text": [
      "model saved\n",
      "Epoch 10/20, Train Loss: 0.8179,           Validation Loss: 0.9607, Duration: 0:03:55.832451, Best Val Epoch: 9\n"
     ]
    },
    {
     "name": "stderr",
     "output_type": "stream",
     "text": [
      "\r",
      " 55%|█████▌    | 11/20 [43:12<35:21, 235.69s/it]"
     ]
    },
    {
     "name": "stdout",
     "output_type": "stream",
     "text": [
      "model saved\n",
      "Epoch 11/20, Train Loss: 0.8118,           Validation Loss: 0.9266, Duration: 0:03:55.510908, Best Val Epoch: 10\n"
     ]
    },
    {
     "name": "stderr",
     "output_type": "stream",
     "text": [
      "\r",
      " 60%|██████    | 12/20 [47:08<31:24, 235.57s/it]"
     ]
    },
    {
     "name": "stdout",
     "output_type": "stream",
     "text": [
      "Epoch 12/20, Train Loss: 0.8215,           Validation Loss: 0.9872, Duration: 0:03:55.300338, Best Val Epoch: 10\n"
     ]
    },
    {
     "name": "stderr",
     "output_type": "stream",
     "text": [
      "\r",
      " 65%|██████▌   | 13/20 [51:03<27:28, 235.54s/it]"
     ]
    },
    {
     "name": "stdout",
     "output_type": "stream",
     "text": [
      "model saved\n",
      "Epoch 13/20, Train Loss: 0.8038,           Validation Loss: 0.9110, Duration: 0:03:55.476182, Best Val Epoch: 12\n"
     ]
    },
    {
     "name": "stderr",
     "output_type": "stream",
     "text": [
      "\r",
      " 70%|███████   | 14/20 [54:59<23:33, 235.54s/it]"
     ]
    },
    {
     "name": "stdout",
     "output_type": "stream",
     "text": [
      "Epoch 14/20, Train Loss: 0.7894,           Validation Loss: 0.9197, Duration: 0:03:55.523465, Best Val Epoch: 12\n"
     ]
    },
    {
     "name": "stderr",
     "output_type": "stream",
     "text": [
      "\r",
      " 75%|███████▌  | 15/20 [58:54<19:37, 235.53s/it]"
     ]
    },
    {
     "name": "stdout",
     "output_type": "stream",
     "text": [
      "Epoch 15/20, Train Loss: 0.7851,           Validation Loss: 0.9136, Duration: 0:03:55.500554, Best Val Epoch: 12\n"
     ]
    },
    {
     "name": "stderr",
     "output_type": "stream",
     "text": [
      "\r",
      " 80%|████████  | 16/20 [1:02:50<15:41, 235.48s/it]"
     ]
    },
    {
     "name": "stdout",
     "output_type": "stream",
     "text": [
      "Epoch 16/20, Train Loss: 0.7807,           Validation Loss: 0.9528, Duration: 0:03:55.364460, Best Val Epoch: 12\n"
     ]
    },
    {
     "name": "stderr",
     "output_type": "stream",
     "text": [
      "\r",
      " 85%|████████▌ | 17/20 [1:06:45<11:46, 235.42s/it]"
     ]
    },
    {
     "name": "stdout",
     "output_type": "stream",
     "text": [
      "Epoch 17/20, Train Loss: 0.7804,           Validation Loss: 0.9405, Duration: 0:03:55.288940, Best Val Epoch: 12\n"
     ]
    },
    {
     "name": "stderr",
     "output_type": "stream",
     "text": [
      "\r",
      " 90%|█████████ | 18/20 [1:10:40<07:50, 235.30s/it]"
     ]
    },
    {
     "name": "stdout",
     "output_type": "stream",
     "text": [
      "Epoch 18/20, Train Loss: 0.8120,           Validation Loss: 0.9410, Duration: 0:03:55.007566, Best Val Epoch: 12\n"
     ]
    },
    {
     "name": "stderr",
     "output_type": "stream",
     "text": [
      "\r",
      " 95%|█████████▌| 19/20 [1:14:35<03:55, 235.19s/it]"
     ]
    },
    {
     "name": "stdout",
     "output_type": "stream",
     "text": [
      "Epoch 19/20, Train Loss: 0.7935,           Validation Loss: 0.9276, Duration: 0:03:54.948731, Best Val Epoch: 12\n"
     ]
    },
    {
     "name": "stderr",
     "output_type": "stream",
     "text": [
      "100%|██████████| 20/20 [1:18:30<00:00, 235.51s/it]"
     ]
    },
    {
     "name": "stdout",
     "output_type": "stream",
     "text": [
      "Epoch 20/20, Train Loss: 0.7770,           Validation Loss: 0.9338, Duration: 0:03:54.910625, Best Val Epoch: 12\n"
     ]
    },
    {
     "name": "stderr",
     "output_type": "stream",
     "text": [
      "\n"
     ]
    }
   ],
   "source": [
    "train_losses, val_losses = batch_gd(model, criterion, optimizer, \n",
    "                                    train_loader, val_loader, epochs=20)"
   ]
  },
  {
   "cell_type": "code",
   "execution_count": 16,
   "id": "8aad07fe",
   "metadata": {
    "ExecuteTime": {
     "end_time": "2023-01-24T15:18:43.548716Z",
     "start_time": "2023-01-24T15:18:43.426358Z"
    }
   },
   "outputs": [
    {
     "data": {
      "text/plain": [
       "<matplotlib.legend.Legend at 0x7ff0b8601080>"
      ]
     },
     "execution_count": 16,
     "metadata": {},
     "output_type": "execute_result"
    },
    {
     "data": {
      "image/png": "[encoded data removed]",
      "text/plain": [
       "<Figure size 1080x432 with 1 Axes>"
      ]
     },
     "metadata": {
      "needs_background": "light"
     },
     "output_type": "display_data"
    }
   ],
   "source": [
    "plt.figure(figsize=(15,6))\n",
    "plt.plot(train_losses, label='train loss')\n",
    "plt.plot(val_losses, label='validation loss')\n",
    "plt.legend()"
   ]
  },
  {
   "cell_type": "code",
   "execution_count": 17,
   "id": "b4a22084",
   "metadata": {
    "ExecuteTime": {
     "end_time": "2023-01-24T15:19:35.405824Z",
     "start_time": "2023-01-24T15:18:43.550337Z"
    }
   },
   "outputs": [
    {
     "name": "stdout",
     "output_type": "stream",
     "text": [
      "Test acc: 0.6153\n"
     ]
    }
   ],
   "source": [
    "model = torch.load('best_val_model_pytorch')\n",
    "\n",
    "n_correct = 0.\n",
    "n_total = 0.\n",
    "for inputs, targets in test_loader:\n",
    "    # Move to GPU\n",
    "    inputs, targets = inputs.to(device, dtype=torch.float), targets.to(device, dtype=torch.int64)\n",
    "\n",
    "    # Forward pass\n",
    "    outputs = F.softmax(model(inputs), dim=1)\n",
    "    \n",
    "    # Get prediction\n",
    "    # torch.max returns both max and argmax\n",
    "    _, predictions = torch.max(outputs, 1)\n",
    "\n",
    "    # update counts\n",
    "    n_correct += (predictions == targets).sum().item()\n",
    "    n_total += targets.shape[0]\n",
    "\n",
    "test_acc = n_correct / n_total\n",
    "print(f\"Test acc: {test_acc:.4f}\")"
   ]
  },
  {
   "cell_type": "code",
   "execution_count": 18,
   "id": "96fd712a",
   "metadata": {
    "ExecuteTime": {
     "end_time": "2023-01-24T15:20:27.184070Z",
     "start_time": "2023-01-24T15:19:35.407463Z"
    }
   },
   "outputs": [],
   "source": [
    "\n",
    "# model = torch.load('best_val_model_pytorch')\n",
    "all_targets = []\n",
    "all_predictions = []\n",
    "\n",
    "for inputs, targets in test_loader:\n",
    "    # Move to GPU\n",
    "    inputs, targets = inputs.to(device, dtype=torch.float), targets.to(device, dtype=torch.int64)\n",
    "\n",
    "    # Forward pass\n",
    "    outputs = F.softmax(model(inputs), dim=1)\n",
    "    \n",
    "    # Get prediction\n",
    "    # torch.max returns both max and argmax\n",
    "    _, predictions = torch.max(outputs, 1)\n",
    "\n",
    "    all_targets.append(targets.cpu().numpy())\n",
    "    all_predictions.append(predictions.cpu().numpy())\n",
    "\n",
    "all_targets = np.concatenate(all_targets)    \n",
    "all_predictions = np.concatenate(all_predictions)"
   ]
  },
  {
   "cell_type": "code",
   "execution_count": 19,
   "id": "957ad8ed",
   "metadata": {
    "ExecuteTime": {
     "end_time": "2023-01-24T15:20:27.318356Z",
     "start_time": "2023-01-24T15:20:27.185473Z"
    }
   },
   "outputs": [
    {
     "name": "stdout",
     "output_type": "stream",
     "text": [
      "accuracy_score: 0.61529307180546\n",
      "              precision    recall  f1-score   support\n",
      "\n",
      "           0     0.5919    0.6311    0.6109     47915\n",
      "           1     0.6859    0.6140    0.6480     48050\n",
      "           2     0.5747    0.5992    0.5867     43523\n",
      "\n",
      "    accuracy                         0.6153    139488\n",
      "   macro avg     0.6175    0.6148    0.6152    139488\n",
      "weighted avg     0.6189    0.6153    0.6161    139488\n",
      "\n"
     ]
    }
   ],
   "source": [
    "print('accuracy_score:', accuracy_score(all_targets, all_predictions))\n",
    "print(classification_report(all_targets, all_predictions, digits=4))\n"
   ]
  },
  {
   "cell_type": "code",
   "execution_count": 20,
   "id": "f656667e",
   "metadata": {
    "ExecuteTime": {
     "end_time": "2023-01-24T15:20:27.323604Z",
     "start_time": "2023-01-24T15:20:27.319778Z"
    }
   },
   "outputs": [],
   "source": [
    "np.savetxt('train_losses_vit0.01_10.txt', train_losses)\n",
    "np.savetxt('test_losses_vit0.01_k10.txt', val_losses)"
   ]
  },
  {
   "cell_type": "code",
   "execution_count": null,
   "id": "ff891a62",
   "metadata": {},
   "outputs": [],
   "source": []
  }
 ],
 "metadata": {
  "kernelspec": {
   "display_name": "Python 3",
   "language": "python",
   "name": "python3"
  },
  "language_info": {
   "codemirror_mode": {
    "name": "ipython",
    "version": 3
   },
   "file_extension": ".py",
   "mimetype": "text/x-python",
   "name": "python",
   "nbconvert_exporter": "python",
   "pygments_lexer": "ipython3",
   "version": "3.6.9"
  }
 },
 "nbformat": 4,
 "nbformat_minor": 5
}
