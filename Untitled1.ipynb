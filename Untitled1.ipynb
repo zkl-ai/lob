{
 "cells": [
  {
   "cell_type": "code",
   "execution_count": 9,
   "id": "78c4e981",
   "metadata": {
    "ExecuteTime": {
     "end_time": "2023-01-14T16:43:32.921771Z",
     "start_time": "2023-01-14T16:43:32.917500Z"
    }
   },
   "outputs": [],
   "source": [
    "with open (\"./acc.txt\", 'a') as acc_file:\n",
    "    acc_file.write(\"hhhhhh\\n\")"
   ]
  },
  {
   "cell_type": "code",
   "execution_count": null,
   "id": "f8799577",
   "metadata": {},
   "outputs": [],
   "source": []
  },
  {
   "cell_type": "code",
   "execution_count": null,
   "id": "b4eb7dd4",
   "metadata": {},
   "outputs": [],
   "source": []
  },
  {
   "cell_type": "code",
   "execution_count": null,
   "id": "85e61c30",
   "metadata": {},
   "outputs": [],
   "source": []
  }
 ],
 "metadata": {
  "kernelspec": {
   "display_name": "Python 3",
   "language": "python",
   "name": "python3"
  },
  "language_info": {
   "codemirror_mode": {
    "name": "ipython",
    "version": 3
   },
   "file_extension": ".py",
   "mimetype": "text/x-python",
   "name": "python",
   "nbconvert_exporter": "python",
   "pygments_lexer": "ipython3",
   "version": "3.6.9"
  }
 },
 "nbformat": 4,
 "nbformat_minor": 5
}
